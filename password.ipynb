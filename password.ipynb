{
 "cells": [
  {
   "cell_type": "code",
   "execution_count": 9,
   "id": "16e02cea",
   "metadata": {},
   "outputs": [
    {
     "name": "stdout",
     "output_type": "stream",
     "text": [
      "anand\n",
      "<selenium.webdriver.remote.webelement.WebElement (session=\"df5549541619dce30e6a5d18c3d722da\", element=\"c202e8b6-a365-4f05-953c-aeff3d498578\")>\n",
      "<selenium.webdriver.remote.webelement.WebElement (session=\"4af381c315c7777dfc2e7ad12e2d9697\", element=\"659b1d26-d830-41ab-9a85-38289f839179\")>\n"
     ]
    }
   ],
   "source": [
    "from selenium import webdriver\n",
    "\n",
    "\n",
    "\n",
    "\n",
    "driver = webdriver.Chrome(\"C:/chromedriver.exe\")\n",
    "driver.get('https://www.facebook.com/')\n",
    "\n",
    "username = \"anand\"\n",
    "password = \"anand\"\n",
    "usernamebox = driver.find_element_by_name(\"email\")\n",
    "passwbox = driver.find_element_by_name(\"pass\")\n",
    "login = driver.find_element_by_name(\"login\")\n",
    "\n",
    "print(username)\n",
    "print(passw)\n",
    "print(login)\n",
    "# username = profile\n",
    "# password = decrypt_message(passw.encode())\n",
    "\n",
    "\n",
    "usernamebox.send_keys(username)\n",
    "\n",
    "# password1 = driver.find_element_by_id('pass')\n",
    "passwbox.send_keys(password)\n",
    "\n",
    "login.click()\n",
    "\n",
    "# return redirect('/')\n"
   ]
  },
  {
   "cell_type": "code",
   "execution_count": 1,
   "id": "d7cbfe22",
   "metadata": {},
   "outputs": [
    {
     "name": "stdout",
     "output_type": "stream",
     "text": [
      "2021-06-26 01:57:58.401767\n",
      "Type :-  <class 'datetime.datetime'>\n"
     ]
    }
   ],
   "source": [
    "from datetime import datetime\n",
    "\n",
    "# get current date\n"
   ]
  },
  {
   "cell_type": "code",
   "execution_count": 2,
   "id": "84d03786",
   "metadata": {},
   "outputs": [],
   "source": [
    "from datetime import time"
   ]
  },
  {
   "cell_type": "code",
   "execution_count": 4,
   "id": "9528d73d",
   "metadata": {},
   "outputs": [],
   "source": [
    "from datetime import datetime, timedelta"
   ]
  },
  {
   "cell_type": "code",
   "execution_count": 11,
   "id": "125b2fef",
   "metadata": {},
   "outputs": [],
   "source": [
    "a= timedelta(hours=9,minutes=0,seconds=0)"
   ]
  },
  {
   "cell_type": "code",
   "execution_count": 12,
   "id": "6107afbe",
   "metadata": {},
   "outputs": [],
   "source": [
    "b = timedelta(hours=10,minutes=0,seconds=0)"
   ]
  },
  {
   "cell_type": "code",
   "execution_count": 13,
   "id": "ebc211cc",
   "metadata": {},
   "outputs": [
    {
     "data": {
      "text/plain": [
       "datetime.timedelta(days=-1, seconds=82800)"
      ]
     },
     "execution_count": 13,
     "metadata": {},
     "output_type": "execute_result"
    }
   ],
   "source": [
    "a-b"
   ]
  },
  {
   "cell_type": "code",
   "execution_count": null,
   "id": "a32143a1",
   "metadata": {},
   "outputs": [],
   "source": []
  }
 ],
 "metadata": {
  "kernelspec": {
   "display_name": "Python 3",
   "language": "python",
   "name": "python3"
  },
  "language_info": {
   "codemirror_mode": {
    "name": "ipython",
    "version": 3
   },
   "file_extension": ".py",
   "mimetype": "text/x-python",
   "name": "python",
   "nbconvert_exporter": "python",
   "pygments_lexer": "ipython3",
   "version": "3.8.3"
  }
 },
 "nbformat": 4,
 "nbformat_minor": 5
}
